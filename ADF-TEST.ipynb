{
 "cells": [
  {
   "cell_type": "code",
   "id": "initial_id",
   "metadata": {
    "collapsed": true,
    "ExecuteTime": {
     "end_time": "2024-11-17T16:02:31.934992Z",
     "start_time": "2024-11-17T16:02:31.825208Z"
    }
   },
   "source": [
    "import pandas as pd\n",
    "from statsmodels.tsa.stattools import adfuller\n",
    "\n",
    "# Load the Bitcoin data\n",
    "daa_df = pd.read_csv(\"data/daa/btc_daa_log_transformed.csv\", parse_dates=['datetime'])\n",
    "tv_df = pd.read_csv(\"data/tv/btc_tv_log_transformed.csv\", parse_dates=['datetime'])\n",
    "vel_df = pd.read_csv(\"data/vel/btc_vel_log_transformed.csv\", parse_dates=['datetime'])\n",
    "price_df = pd.read_csv(\"data/price/btc_price_log_transformed.csv\", parse_dates=['datetime'])\n",
    "\n",
    "# Merge all datasets into a single DataFrame on the 'datetime' column, with suffixes for duplicate column names\n",
    "df = daa_df.merge(tv_df, on='datetime', suffixes=('_daa', '_tv')) \\\n",
    "           .merge(vel_df, on='datetime', suffixes=('', '_vel')) \\\n",
    "           .merge(price_df[['datetime', 'log_value']], on='datetime', suffixes=('_vel', '_price'))\n",
    "\n",
    "# Rename columns for easier interpretation\n",
    "df.rename(columns={\n",
    "    'log_value_daa': 'Log(DAA)',\n",
    "    'log_value_tv': 'Log(TV)',\n",
    "    'log_value_vel': 'Log(VEL)',\n",
    "    'log_value_price': 'Log(Price)'  # Rename log_value of price to Log(Price)\n",
    "}, inplace=True)\n",
    "\n",
    "# List of columns to perform the ADF test\n",
    "columns_to_test = ['Log(DAA)', 'Log(TV)', 'Log(VEL)', 'Log(Price)']\n",
    "\n",
    "# Function to interpret the ADF test\n",
    "def interpret_adf_results(column_name, adf_result):\n",
    "    adf_stat = adf_result[0]\n",
    "    p_value = adf_result[1]\n",
    "    critical_values = adf_result[4]\n",
    "    print(f\"Results for {column_name}:\")\n",
    "    print(f\"ADF Statistic: {adf_stat}\")\n",
    "    print(f\"p-value: {p_value}\")\n",
    "    print(\"Critical Values:\")\n",
    "    for key, value in critical_values.items():\n",
    "        print(f\"{key}: {value}\")\n",
    "    \n",
    "    # Interpretation\n",
    "    if p_value < 0.05:\n",
    "        print(f\"The series '{column_name}' is stationary (Reject H0 at 5% significance level).\")\n",
    "    else:\n",
    "        print(f\"The series '{column_name}' is non-stationary (Fail to reject H0 at 5% significance level).\")\n",
    "    print(\"\\n\")\n",
    "\n",
    "# Perform the ADF test for each column\n",
    "print(\"ADF Test Results for Bitcoin Metrics:\\n\")\n",
    "for column in columns_to_test:\n",
    "    series = df[column].dropna()  # Remove NaN values\n",
    "    adf_result = adfuller(series)  # Perform ADF test\n",
    "    interpret_adf_results(column, adf_result)"
   ],
   "outputs": [
    {
     "name": "stdout",
     "output_type": "stream",
     "text": [
      "ADF Test Results for Bitcoin Metrics:\n",
      "\n",
      "Results for Log(DAA):\n",
      "ADF Statistic: -3.42579840412938\n",
      "p-value: 0.01011022200753273\n",
      "Critical Values:\n",
      "1%: -3.4349056408696814\n",
      "5%: -2.863552005375758\n",
      "10%: -2.5678411776130114\n",
      "The series 'Log(DAA)' is stationary (Reject H0 at 5% significance level).\n",
      "\n",
      "\n",
      "Results for Log(TV):\n",
      "ADF Statistic: -2.6713256742567615\n",
      "p-value: 0.07913296525561686\n",
      "Critical Values:\n",
      "1%: -3.4349024693573584\n",
      "5%: -2.8635506057382325\n",
      "10%: -2.5678404322793846\n",
      "The series 'Log(TV)' is non-stationary (Fail to reject H0 at 5% significance level).\n",
      "\n",
      "\n",
      "Results for Log(VEL):\n",
      "ADF Statistic: -3.085872043097689\n",
      "p-value: 0.027616541356816755\n",
      "Critical Values:\n",
      "1%: -3.434880391815318\n",
      "5%: -2.8635408625359315\n",
      "10%: -2.5678352438452814\n",
      "The series 'Log(VEL)' is stationary (Reject H0 at 5% significance level).\n",
      "\n",
      "\n",
      "Results for Log(Price):\n",
      "ADF Statistic: -1.7196386133024275\n",
      "p-value: 0.4210235316297345\n",
      "Critical Values:\n",
      "1%: -3.4348647527922824\n",
      "5%: -2.863533960720434\n",
      "10%: -2.567831568508802\n",
      "The series 'Log(Price)' is non-stationary (Fail to reject H0 at 5% significance level).\n",
      "\n",
      "\n"
     ]
    }
   ],
   "execution_count": 8
  }
 ],
 "metadata": {
  "kernelspec": {
   "display_name": "Python 3",
   "language": "python",
   "name": "python3"
  },
  "language_info": {
   "codemirror_mode": {
    "name": "ipython",
    "version": 2
   },
   "file_extension": ".py",
   "mimetype": "text/x-python",
   "name": "python",
   "nbconvert_exporter": "python",
   "pygments_lexer": "ipython2",
   "version": "2.7.6"
  }
 },
 "nbformat": 4,
 "nbformat_minor": 5
}
